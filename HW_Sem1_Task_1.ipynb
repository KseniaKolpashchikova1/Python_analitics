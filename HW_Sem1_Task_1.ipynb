{
 "cells": [
  {
   "cell_type": "markdown",
   "id": "8b948207",
   "metadata": {},
   "source": [
    "### Задание 1"
   ]
  },
  {
   "cell_type": "markdown",
   "id": "0b349fe5",
   "metadata": {},
   "source": [
    "#### На складе лежат разные фрукты в разном количестве. Нужно написать функцию, которая на вход принимает любое количество названий фруктов и их количество, а возвращает общее количество фруктов на складе"
   ]
  },
  {
   "cell_type": "code",
   "execution_count": 20,
   "id": "68d1f476",
   "metadata": {},
   "outputs": [
    {
     "name": "stdout",
     "output_type": "stream",
     "text": [
      "Введите название фрукта (если Вы ввели все данные, то для выхода нажмите Enter)\n",
      "Яблоко\n",
      "Введите количество фруктов: \n",
      "200\n",
      "Введите название фрукта (если Вы ввели все данные, то для выхода нажмите Enter)\n",
      "Апельсин\n",
      "Введите количество фруктов: \n",
      "300\n",
      "Введите название фрукта (если Вы ввели все данные, то для выхода нажмите Enter)\n",
      "\n",
      "Общее количество фруктов на складе: 500\n"
     ]
    }
   ],
   "source": [
    "def my_dict():\n",
    "    new_dict = {}\n",
    "    while(True):\n",
    "        print('Введите название фрукта (если Вы ввели все данные, то для выхода нажмите Enter)')\n",
    "        fruits = input()\n",
    "        if fruits == '':\n",
    "            break\n",
    "        print('Введите количество фруктов: ')\n",
    "        count_fruits = input()\n",
    "        new_dict[fruits] = count_fruits\n",
    "    return new_dict\n",
    "call_def = my_dict()\n",
    "def_int = {key: int(value) for key, value in call_def.items()}\n",
    "sum_def = sum(def_int.values())\n",
    "print(f'Общее количество фруктов на складе: {sum_def}')"
   ]
  },
  {
   "cell_type": "code",
   "execution_count": null,
   "id": "7d2c14d4",
   "metadata": {},
   "outputs": [],
   "source": []
  }
 ],
 "metadata": {
  "kernelspec": {
   "display_name": "Python 3 (ipykernel)",
   "language": "python",
   "name": "python3"
  },
  "language_info": {
   "codemirror_mode": {
    "name": "ipython",
    "version": 3
   },
   "file_extension": ".py",
   "mimetype": "text/x-python",
   "name": "python",
   "nbconvert_exporter": "python",
   "pygments_lexer": "ipython3",
   "version": "3.11.4"
  }
 },
 "nbformat": 4,
 "nbformat_minor": 5
}
