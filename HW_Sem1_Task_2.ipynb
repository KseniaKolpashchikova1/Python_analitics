{
 "cells": [
  {
   "cell_type": "markdown",
   "id": "0e0d8f8d",
   "metadata": {},
   "source": [
    "### Задание 2"
   ]
  },
  {
   "cell_type": "markdown",
   "id": "a62008fa",
   "metadata": {},
   "source": [
    "#### Дан список с затратами на рекламу. Но в данных есть ошибки, некоторые затраты имеют отрицательную величину. Удалите такие значения из списка и посчитайте суммарные затраты [100, 125, -90, 345, 655, -1, 0, 200]. Используйте list comprehensions"
   ]
  },
  {
   "cell_type": "code",
   "execution_count": 9,
   "id": "0dadf92e",
   "metadata": {},
   "outputs": [
    {
     "name": "stdout",
     "output_type": "stream",
     "text": [
      "Суммарные затраты: 1425\n"
     ]
    }
   ],
   "source": [
    "my_dict = [100, 125, -90, 345, 655, -1, 0, 200]\n",
    "a = [int(x) for x in my_dict if int(x) > 0]\n",
    "print(f'Суммарные затраты: {sum(a)}')"
   ]
  },
  {
   "cell_type": "code",
   "execution_count": null,
   "id": "ca2b70b8",
   "metadata": {},
   "outputs": [],
   "source": []
  }
 ],
 "metadata": {
  "kernelspec": {
   "display_name": "Python 3 (ipykernel)",
   "language": "python",
   "name": "python3"
  },
  "language_info": {
   "codemirror_mode": {
    "name": "ipython",
    "version": 3
   },
   "file_extension": ".py",
   "mimetype": "text/x-python",
   "name": "python",
   "nbconvert_exporter": "python",
   "pygments_lexer": "ipython3",
   "version": "3.11.4"
  }
 },
 "nbformat": 4,
 "nbformat_minor": 5
}
