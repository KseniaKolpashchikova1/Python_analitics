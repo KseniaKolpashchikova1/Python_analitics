{
 "cells": [
  {
   "cell_type": "markdown",
   "id": "a0b1a302",
   "metadata": {},
   "source": [
    "### Задание 4"
   ]
  },
  {
   "cell_type": "markdown",
   "id": "bb13ca07",
   "metadata": {},
   "source": [
    "#### Даны два списка.\n",
    "#### Дата покупки\n",
    "['2021-09-14', '2021-12-15', '2021-09-08', '2021-12-05', '2021-10-09', '2021-09-30', '2021-12-22', '2021-11-29', '2021-12-24', '2021-11-26', '2021-10-27', '2021-12-18', '2021-11-09', '2021-11-23', '2021-09-27', '2021-10-02', '2021-12-27', '2021-09-20', '2021-12-13', '2021-11-01', '2021-11-09', '2021-12-06', '2021-12-08', '2021-10-09', '2021-10-31', '2021-09-30', '2021-11-09', '2021-12-13', '2021-10-26', '2021-12-09']\n",
    "#### Суммы покупок по датам\n",
    "[1270, 8413, 9028, 3703, 5739, 4095, 295, 4944, 5723, 3701, 4471, 651, 7037, 4274, 6275, 4988, 6930, 2971, 6592, 2004, 2822, 519, 3406, 2732, 5015, 2008, 316, 6333, 5700, 2887]"
   ]
  },
  {
   "cell_type": "markdown",
   "id": "027cdf6f",
   "metadata": {},
   "source": [
    "### 4.1 Найдите, какая выручка у компании в ноябре"
   ]
  },
  {
   "cell_type": "code",
   "execution_count": 21,
   "id": "f604e9c7",
   "metadata": {},
   "outputs": [],
   "source": [
    "date_purchase = ['2021-09-14', '2021-12-15', '2021-09-08', '2021-12-05', '2021-10-09', \n",
    "                 '2021-09-30', '2021-12-22', '2021-11-29', '2021-12-24', '2021-11-26', \n",
    "                 '2021-10-27', '2021-12-18', '2021-11-09', '2021-11-23', '2021-09-27', \n",
    "                 '2021-10-02', '2021-12-27', '2021-09-20', '2021-12-13', '2021-11-01', \n",
    "                 '2021-11-09', '2021-12-06', '2021-12-08', '2021-10-09', '2021-10-31', \n",
    "                 '2021-09-30', '2021-11-09', '2021-12-13', '2021-10-26', '2021-12-09']"
   ]
  },
  {
   "cell_type": "code",
   "execution_count": 22,
   "id": "2a2ced39",
   "metadata": {},
   "outputs": [],
   "source": [
    "sum_purchase = [1270, 8413, 9028, 3703, 5739, 4095, 295, 4944, 5723, 3701, 4471, 651, \n",
    "                7037, 4274, 6275, 4988, 6930, 2971, 6592, 2004, 2822, 519, 3406, 2732, \n",
    "                5015, 2008, 316, 6333, 5700, 2887]"
   ]
  },
  {
   "cell_type": "code",
   "execution_count": 23,
   "id": "b9eb5378",
   "metadata": {},
   "outputs": [
    {
     "name": "stdout",
     "output_type": "stream",
     "text": [
      "Выручка компании в ноябре составила: 15239\n"
     ]
    }
   ],
   "source": [
    "my_dict = dict(zip(date_purchase, sum_purchase))\n",
    "partial_key = '2021-11'\n",
    "matching_key = {value for key, value in my_dict.items() if partial_key in key}\n",
    "print(f'Выручка компании в ноябре составила: {sum(matching_key)}')"
   ]
  },
  {
   "cell_type": "markdown",
   "id": "b03af4d5",
   "metadata": {},
   "source": [
    "### 4.2 Найдите выручку компании в зависимости от месяца"
   ]
  },
  {
   "cell_type": "markdown",
   "id": "8a0a7b78",
   "metadata": {},
   "source": [
    "#### Для этого напишите функцию, которая на вход принимает список с датами и список с выручкой, а на выходе словарь, где ключи - это месяцы, а значения - это выручка. Используйте аннотирование типов."
   ]
  },
  {
   "cell_type": "code",
   "execution_count": 35,
   "id": "60d7e680",
   "metadata": {},
   "outputs": [
    {
     "name": "stdout",
     "output_type": "stream",
     "text": [
      "Выручка компании по месяцам: {'9': 25647, '12': 45452, '10': 28645, '11': 25098}\n"
     ]
    }
   ],
   "source": [
    "from datetime import datetime\n",
    "\n",
    "def purchase_month(date_purchase: list, sum_purchase: list) -> dict:\n",
    "    new_list = {}\n",
    "    for i in range(len(date_purchase)):\n",
    "        month = str(datetime.strptime(date_purchase[i], \"%Y-%m-%d\").month)\n",
    "        if month in new_list.keys():\n",
    "            new_list[month] += sum_purchase[i]\n",
    "        else:\n",
    "            new_list[month] = sum_purchase[i]\n",
    "    return new_list\n",
    "d = purchase_month(date_purchase, sum_purchase)\n",
    "print(f'Выручка компании по месяцам: {d}')\n"
   ]
  },
  {
   "cell_type": "code",
   "execution_count": null,
   "id": "219d9435",
   "metadata": {},
   "outputs": [],
   "source": []
  },
  {
   "cell_type": "code",
   "execution_count": null,
   "id": "689cbe86",
   "metadata": {},
   "outputs": [],
   "source": []
  }
 ],
 "metadata": {
  "kernelspec": {
   "display_name": "Python 3 (ipykernel)",
   "language": "python",
   "name": "python3"
  },
  "language_info": {
   "codemirror_mode": {
    "name": "ipython",
    "version": 3
   },
   "file_extension": ".py",
   "mimetype": "text/x-python",
   "name": "python",
   "nbconvert_exporter": "python",
   "pygments_lexer": "ipython3",
   "version": "3.11.4"
  }
 },
 "nbformat": 4,
 "nbformat_minor": 5
}
